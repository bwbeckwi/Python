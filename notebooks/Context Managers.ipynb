{
 "cells": [
  {
   "cell_type": "markdown",
   "metadata": {},
   "source": [
    "# Context Managers"
   ]
  },
  {
   "cell_type": "markdown",
   "metadata": {},
   "source": [
    "Context managers are useful constructs that are baked into the core of the lanagage. The most well-known context manager is used to manage files."
   ]
  },
  {
   "cell_type": "code",
   "execution_count": 1,
   "metadata": {},
   "outputs": [],
   "source": [
    "import os\n",
    "import sys\n",
    "\n",
    "with open('test_file.txt', 'w+') as f:\n",
    "\n",
    "    f.write('This file was managed through a context manager.')"
   ]
  },
  {
   "cell_type": "markdown",
   "metadata": {},
   "source": [
    "Context managers wrap set up and tear down actions around arbitrary code. They are classes that have two special methods '\\__enter\\__' and '\\__exit\\__' implemented. This suggest that context managers are tightly bound to the protocol-based design of Python."
   ]
  },
  {
   "cell_type": "markdown",
   "metadata": {},
   "source": [
    "To demonstate one potential use case of context managers, let's consider the following code."
   ]
  },
  {
   "cell_type": "code",
   "execution_count": 2,
   "metadata": {
    "collapsed": true
   },
   "outputs": [],
   "source": [
    "def add_and_print(x, y):\n",
    "\n",
    "    print(f'We will add {x} and {y} together.')\n",
    "\n",
    "    result = x + y\n",
    "\n",
    "    print(f'The result is {result} of addition.')\n",
    "\n",
    "    return result"
   ]
  },
  {
   "cell_type": "markdown",
   "metadata": {},
   "source": [
    "The code might be used like this."
   ]
  },
  {
   "cell_type": "code",
   "execution_count": 3,
   "metadata": {},
   "outputs": [
    {
     "name": "stdout",
     "output_type": "stream",
     "text": [
      "We will add 10 and 20 together.\n",
      "The result is 30 of addition.\n"
     ]
    }
   ],
   "source": [
    "result = add_and_print(10, 20)"
   ]
  },
  {
   "cell_type": "markdown",
   "metadata": {},
   "source": [
    "What if we are only concerned with the result? That would make the print statments pointless. One solution to this is as follows."
   ]
  },
  {
   "cell_type": "code",
   "execution_count": 4,
   "metadata": {
    "collapsed": true
   },
   "outputs": [],
   "source": [
    "def add_and_print_verbose(x, y, verbose=True):\n",
    "\n",
    "    if verbose:\n",
    "\n",
    "        print(f'We will add {x} and {y} together.')\n",
    "\n",
    "    result = x + y\n",
    "\n",
    "    if verbose:\n",
    "\n",
    "        print(f'The result is {result} of addition.')\n",
    "\n",
    "    return result"
   ]
  },
  {
   "cell_type": "markdown",
   "metadata": {},
   "source": [
    "This solution is bad:\n",
    "- It assumes we have access to and can change the source code.\n",
    "- It complicates the code.\n",
    "- It changes the function signature.\n",
    "\n",
    "A better way is to use a context manager to suppress print statements."
   ]
  },
  {
   "cell_type": "code",
   "execution_count": 5,
   "metadata": {
    "collapsed": true
   },
   "outputs": [],
   "source": [
    "class PrintSuppressContext:\n",
    "\n",
    "    def __enter__(self):\n",
    "\n",
    "        print('Standard out suppressed...')\n",
    "        sys.stdout = open(os.devnull, 'w')\n",
    "\n",
    "        return self\n",
    "\n",
    "    def __exit__(self, exc_type, exc_value, traceback):\n",
    "\n",
    "        sys.stdout = sys.__stdout__\n",
    "        print('Standard out unsuppressed...')\n",
    "\n",
    "        return self"
   ]
  },
  {
   "cell_type": "markdown",
   "metadata": {},
   "source": [
    "Now we can use the original function definition get the desired behavior."
   ]
  },
  {
   "cell_type": "code",
   "execution_count": 6,
   "metadata": {},
   "outputs": [
    {
     "name": "stdout",
     "output_type": "stream",
     "text": [
      "Standard out suppressed...\n"
     ]
    }
   ],
   "source": [
    "with PrintSuppressContext():\n",
    "\n",
    "    result = add_and_print(20, 30)"
   ]
  },
  {
   "cell_type": "markdown",
   "metadata": {},
   "source": [
    "Notice how the output has been suppressed from the print statements. For basic context managers, there is a simpler way to write them."
   ]
  },
  {
   "cell_type": "code",
   "execution_count": 7,
   "metadata": {
    "collapsed": true
   },
   "outputs": [],
   "source": [
    "from contextlib import contextmanager\n",
    "\n",
    "@contextmanager\n",
    "def print_suppress_context():\n",
    "    \n",
    "    print('Standard out suppressed...')\n",
    "    sys.stdout = open(os.devnull, 'w')\n",
    "    \n",
    "    yield\n",
    "    \n",
    "    sys.stdout = sys.__stdout__\n",
    "    print('Standard out unsuppressed...')"
   ]
  },
  {
   "cell_type": "markdown",
   "metadata": {},
   "source": [
    "Again, this is equivilant."
   ]
  },
  {
   "cell_type": "code",
   "execution_count": 8,
   "metadata": {
    "collapsed": true
   },
   "outputs": [],
   "source": [
    "with print_suppress_context():\n",
    "    \n",
    "    result = add_and_print(30, 40)\n",
    "    \n",
    "print('test')"
   ]
  },
  {
   "cell_type": "markdown",
   "metadata": {},
   "source": [
    "Notice how the print immediately after the with statement is not suppressed."
   ]
  }
 ],
 "metadata": {
  "kernelspec": {
   "display_name": "Python 3",
   "language": "python",
   "name": "python3"
  },
  "language_info": {
   "codemirror_mode": {
    "name": "ipython",
    "version": 3
   },
   "file_extension": ".py",
   "mimetype": "text/x-python",
   "name": "python",
   "nbconvert_exporter": "python",
   "pygments_lexer": "ipython3",
   "version": "3.6.1"
  }
 },
 "nbformat": 4,
 "nbformat_minor": 2
}
